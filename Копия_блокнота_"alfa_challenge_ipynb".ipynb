{
  "nbformat": 4,
  "nbformat_minor": 0,
  "metadata": {
    "colab": {
      "name": "Копия блокнота \"alfa-challenge.ipynb\"",
      "provenance": [],
      "collapsed_sections": [],
      "include_colab_link": true
    },
    "kernelspec": {
      "name": "python3",
      "display_name": "Python 3"
    },
    "language_info": {
      "name": "python"
    },
    "accelerator": "GPU",
    "gpuClass": "standard"
  },
  "cells": [
    {
      "cell_type": "markdown",
      "metadata": {
        "id": "view-in-github",
        "colab_type": "text"
      },
      "source": [
        "<a href=\"https://colab.research.google.com/github/KonstantinLihota/Resume/blob/main/%D0%9A%D0%BE%D0%BF%D0%B8%D1%8F_%D0%B1%D0%BB%D0%BE%D0%BA%D0%BD%D0%BE%D1%82%D0%B0_%22alfa_challenge_ipynb%22.ipynb\" target=\"_parent\"><img src=\"https://colab.research.google.com/assets/colab-badge.svg\" alt=\"Open In Colab\"/></a>"
      ]
    },
    {
      "cell_type": "code",
      "source": [
        "import pandas as pd\n",
        "import numpy as np\n",
        "import sys\n",
        "import matplotlib.pyplot as plt\n",
        "from sklearn.feature_extraction.text import TfidfTransformer\n",
        "from sklearn.preprocessing import OneHotEncoder\n",
        "from collections import Counter\n",
        "from torch.utils.data import Dataset, DataLoader, random_split\n",
        "from typing import List\n",
        "from collections import Counter\n",
        "import matplotlib.pyplot as plt\n",
        "from tqdm import tqdm\n",
        "from torch import nn\n",
        "from sklearn.metrics import classification_report\n",
        "import sys\n",
        "from google.colab import drive\n",
        "import pandas as pd\n",
        "import numpy as np\n",
        "import nltk\n",
        "import torch\n",
        "from sklearn.model_selection import train_test_split\n",
        "from torch.utils.data import Sampler\n",
        "import torch.optim as optim\n"
      ],
      "metadata": {
        "id": "kH90Rn9ert4_"
      },
      "execution_count": 1,
      "outputs": []
    },
    {
      "cell_type": "code",
      "execution_count": 2,
      "metadata": {
        "colab": {
          "base_uri": "https://localhost:8080/"
        },
        "id": "gWYSeRdhnsob",
        "outputId": "1a2db4ba-e315-413e-9d69-deadcda829d1"
      },
      "outputs": [
        {
          "output_type": "stream",
          "name": "stdout",
          "text": [
            "Drive already mounted at /content/gdrive; to attempt to forcibly remount, call drive.mount(\"/content/gdrive\", force_remount=True).\n"
          ]
        }
      ],
      "source": [
        "device = \"cuda:0\"\n",
        "#device = 'cpu'\n",
        "sys.path.append('/content/gdrive/My Drive/Colab Notebooks')\n",
        "#from reco_utils.recommender.sar.sar_singlenode import SARSingleNode\n",
        "from google.colab import drive\n",
        "drive.mount('/content/gdrive')"
      ]
    },
    {
      "cell_type": "code",
      "source": [
        "\n",
        "df_train = pd.read_csv('/content/gdrive/MyDrive/data/df_train.csv', sep = ';')\n",
        "df_test = pd.read_csv('/content/gdrive/MyDrive/data/df_train.csv', sep = ';')"
      ],
      "metadata": {
        "id": "2voWF8CApBYW"
      },
      "execution_count": 3,
      "outputs": []
    },
    {
      "cell_type": "code",
      "source": [
        "df_train['Data'] = df_train.Data.apply(lambda s: list(map(int, s.split(','))))\n",
        "df_train['Target'] = df_train.Target.apply(lambda s: list(map(int, s.split(','))))\n",
        "df_test['Data'] = df_test.Data.apply(lambda s: list(map(int, s.split(','))))"
      ],
      "metadata": {
        "id": "Io9vKczrpBcO"
      },
      "execution_count": 4,
      "outputs": []
    },
    {
      "cell_type": "code",
      "source": [
        "np.mean([len(set(i)) for i in df_train['Target']])"
      ],
      "metadata": {
        "colab": {
          "base_uri": "https://localhost:8080/"
        },
        "id": "LcSfuhzmnVxS",
        "outputId": "f6058060-9cca-4c45-9478-d36d91af6d63"
      },
      "execution_count": 5,
      "outputs": [
        {
          "output_type": "execute_result",
          "data": {
            "text/plain": [
              "4.511446040096687"
            ]
          },
          "metadata": {},
          "execution_count": 5
        }
      ]
    },
    {
      "cell_type": "code",
      "source": [
        "transaction_len = [len(i) for i in df_train['Data']]\n",
        "plt.hist(transaction_len,bins = 50)"
      ],
      "metadata": {
        "colab": {
          "base_uri": "https://localhost:8080/",
          "height": 595
        },
        "id": "F9McgejbpBfg",
        "outputId": "b39dfac0-5544-4dff-d4fe-072975cc9a80"
      },
      "execution_count": 6,
      "outputs": [
        {
          "output_type": "execute_result",
          "data": {
            "text/plain": [
              "(array([4.537e+03, 1.817e+03, 4.450e+02, 1.310e+02, 3.100e+01, 1.900e+01,\n",
              "        7.000e+00, 7.000e+00, 4.000e+00, 1.000e+00, 2.000e+00, 3.000e+00,\n",
              "        2.000e+00, 0.000e+00, 2.000e+00, 6.000e+00, 0.000e+00, 0.000e+00,\n",
              "        1.000e+00, 1.000e+00, 0.000e+00, 0.000e+00, 0.000e+00, 1.000e+00,\n",
              "        2.000e+00, 0.000e+00, 2.000e+00, 1.000e+00, 3.000e+00, 1.000e+00,\n",
              "        0.000e+00, 0.000e+00, 0.000e+00, 0.000e+00, 2.000e+00, 1.000e+00,\n",
              "        1.000e+00, 0.000e+00, 0.000e+00, 0.000e+00, 0.000e+00, 0.000e+00,\n",
              "        0.000e+00, 0.000e+00, 1.000e+00, 1.000e+00, 0.000e+00, 0.000e+00,\n",
              "        0.000e+00, 1.000e+00]),\n",
              " array([   40.  ,   461.22,   882.44,  1303.66,  1724.88,  2146.1 ,\n",
              "         2567.32,  2988.54,  3409.76,  3830.98,  4252.2 ,  4673.42,\n",
              "         5094.64,  5515.86,  5937.08,  6358.3 ,  6779.52,  7200.74,\n",
              "         7621.96,  8043.18,  8464.4 ,  8885.62,  9306.84,  9728.06,\n",
              "        10149.28, 10570.5 , 10991.72, 11412.94, 11834.16, 12255.38,\n",
              "        12676.6 , 13097.82, 13519.04, 13940.26, 14361.48, 14782.7 ,\n",
              "        15203.92, 15625.14, 16046.36, 16467.58, 16888.8 , 17310.02,\n",
              "        17731.24, 18152.46, 18573.68, 18994.9 , 19416.12, 19837.34,\n",
              "        20258.56, 20679.78, 21101.  ]),\n",
              " <a list of 50 Patch objects>)"
            ]
          },
          "metadata": {},
          "execution_count": 6
        },
        {
          "output_type": "display_data",
          "data": {
            "text/plain": [
              "<Figure size 432x288 with 1 Axes>"
            ],
            "image/png": "[encoded data removed]"
          },
          "metadata": {
            "needs_background": "light"
          }
        }
      ]
    },
    {
      "cell_type": "code",
      "source": [
        "pd.DataFrame(transaction_len).describe()\n"
      ],
      "metadata": {
        "colab": {
          "base_uri": "https://localhost:8080/",
          "height": 300
        },
        "id": "4ppJx95n5fGg",
        "outputId": "c1249660-33e5-4d69-b9d7-507c42a13dc4"
      },
      "execution_count": 7,
      "outputs": [
        {
          "output_type": "execute_result",
          "data": {
            "text/plain": [
              "                  0\n",
              "count   7033.000000\n",
              "mean     473.322906\n",
              "std      811.665063\n",
              "min       40.000000\n",
              "25%      180.000000\n",
              "50%      336.000000\n",
              "75%      570.000000\n",
              "max    21101.000000"
            ],
            "text/html": [
              "\n",
              "  <div id=\"df-5aad8413-97e5-4b19-8ed0-26406e2d51f8\">\n",
              "    <div class=\"colab-df-container\">\n",
              "      <div>\n",
              "<style scoped>\n",
              "    .dataframe tbody tr th:only-of-type {\n",
              "        vertical-align: middle;\n",
              "    }\n",
              "\n",
              "    .dataframe tbody tr th {\n",
              "        vertical-align: top;\n",
              "    }\n",
              "\n",
              "    .dataframe thead th {\n",
              "        text-align: right;\n",
              "    }\n",
              "</style>\n",
              "<table border=\"1\" class=\"dataframe\">\n",
              "  <thead>\n",
              "    <tr style=\"text-align: right;\">\n",
              "      <th></th>\n",
              "      <th>0</th>\n",
              "    </tr>\n",
              "  </thead>\n",
              "  <tbody>\n",
              "    <tr>\n",
              "      <th>count</th>\n",
              "      <td>7033.000000</td>\n",
              "    </tr>\n",
              "    <tr>\n",
              "      <th>mean</th>\n",
              "      <td>473.322906</td>\n",
              "    </tr>\n",
              "    <tr>\n",
              "      <th>std</th>\n",
              "      <td>811.665063</td>\n",
              "    </tr>\n",
              "    <tr>\n",
              "      <th>min</th>\n",
              "      <td>40.000000</td>\n",
              "    </tr>\n",
              "    <tr>\n",
              "      <th>25%</th>\n",
              "      <td>180.000000</td>\n",
              "    </tr>\n",
              "    <tr>\n",
              "      <th>50%</th>\n",
              "      <td>336.000000</td>\n",
              "    </tr>\n",
              "    <tr>\n",
              "      <th>75%</th>\n",
              "      <td>570.000000</td>\n",
              "    </tr>\n",
              "    <tr>\n",
              "      <th>max</th>\n",
              "      <td>21101.000000</td>\n",
              "    </tr>\n",
              "  </tbody>\n",
              "</table>\n",
              "</div>\n",
              "      <button class=\"colab-df-convert\" onclick=\"convertToInteractive('df-5aad8413-97e5-4b19-8ed0-26406e2d51f8')\"\n",
              "              title=\"Convert this dataframe to an interactive table.\"\n",
              "              style=\"display:none;\">\n",
              "        \n",
              "  <svg xmlns=\"http://www.w3.org/2000/svg\" height=\"24px\"viewBox=\"0 0 24 24\"\n",
              "       width=\"24px\">\n",
              "    <path d=\"M0 0h24v24H0V0z\" fill=\"none\"/>\n",
              "    <path d=\"M18.56 5.44l.94 2.06.94-2.06 2.06-.94-2.06-.94-.94-2.06-.94 2.06-2.06.94zm-11 1L8.5 8.5l.94-2.06 2.06-.94-2.06-.94L8.5 2.5l-.94 2.06-2.06.94zm10 10l.94 2.06.94-2.06 2.06-.94-2.06-.94-.94-2.06-.94 2.06-2.06.94z\"/><path d=\"M17.41 7.96l-1.37-1.37c-.4-.4-.92-.59-1.43-.59-.52 0-1.04.2-1.43.59L10.3 9.45l-7.72 7.72c-.78.78-.78 2.05 0 2.83L4 21.41c.39.39.9.59 1.41.59.51 0 1.02-.2 1.41-.59l7.78-7.78 2.81-2.81c.8-.78.8-2.07 0-2.86zM5.41 20L4 18.59l7.72-7.72 1.47 1.35L5.41 20z\"/>\n",
              "  </svg>\n",
              "      </button>\n",
              "      \n",
              "  <style>\n",
              "    .colab-df-container {\n",
              "      display:flex;\n",
              "      flex-wrap:wrap;\n",
              "      gap: 12px;\n",
              "    }\n",
              "\n",
              "    .colab-df-convert {\n",
              "      background-color: #E8F0FE;\n",
              "      border: none;\n",
              "      border-radius: 50%;\n",
              "      cursor: pointer;\n",
              "      display: none;\n",
              "      fill: #1967D2;\n",
              "      height: 32px;\n",
              "      padding: 0 0 0 0;\n",
              "      width: 32px;\n",
              "    }\n",
              "\n",
              "    .colab-df-convert:hover {\n",
              "      background-color: #E2EBFA;\n",
              "      box-shadow: 0px 1px 2px rgba(60, 64, 67, 0.3), 0px 1px 3px 1px rgba(60, 64, 67, 0.15);\n",
              "      fill: #174EA6;\n",
              "    }\n",
              "\n",
              "    [theme=dark] .colab-df-convert {\n",
              "      background-color: #3B4455;\n",
              "      fill: #D2E3FC;\n",
              "    }\n",
              "\n",
              "    [theme=dark] .colab-df-convert:hover {\n",
              "      background-color: #434B5C;\n",
              "      box-shadow: 0px 1px 3px 1px rgba(0, 0, 0, 0.15);\n",
              "      filter: drop-shadow(0px 1px 2px rgba(0, 0, 0, 0.3));\n",
              "      fill: #FFFFFF;\n",
              "    }\n",
              "  </style>\n",
              "\n",
              "      <script>\n",
              "        const buttonEl =\n",
              "          document.querySelector('#df-5aad8413-97e5-4b19-8ed0-26406e2d51f8 button.colab-df-convert');\n",
              "        buttonEl.style.display =\n",
              "          google.colab.kernel.accessAllowed ? 'block' : 'none';\n",
              "\n",
              "        async function convertToInteractive(key) {\n",
              "          const element = document.querySelector('#df-5aad8413-97e5-4b19-8ed0-26406e2d51f8');\n",
              "          const dataTable =\n",
              "            await google.colab.kernel.invokeFunction('convertToInteractive',\n",
              "                                                     [key], {});\n",
              "          if (!dataTable) return;\n",
              "\n",
              "          const docLinkHtml = 'Like what you see? Visit the ' +\n",
              "            '<a target=\"_blank\" href=https://colab.research.google.com/notebooks/data_table.ipynb>data table notebook</a>'\n",
              "            + ' to learn more about interactive tables.';\n",
              "          element.innerHTML = '';\n",
              "          dataTable['output_type'] = 'display_data';\n",
              "          await google.colab.output.renderOutput(dataTable, element);\n",
              "          const docLink = document.createElement('div');\n",
              "          docLink.innerHTML = docLinkHtml;\n",
              "          element.appendChild(docLink);\n",
              "        }\n",
              "      </script>\n",
              "    </div>\n",
              "  </div>\n",
              "  "
            ]
          },
          "metadata": {},
          "execution_count": 7
        }
      ]
    },
    {
      "cell_type": "code",
      "source": [
        "top_codes = df_train['Data'].explode().value_counts()\n",
        "top  = set(top_codes[top_codes>3000].index)\n"
      ],
      "metadata": {
        "id": "u3UKmUdBpBmT"
      },
      "execution_count": 8,
      "outputs": []
    },
    {
      "cell_type": "code",
      "source": [
        "transaction_set = [set(i) for i in df_train['Data']]\n",
        "\n",
        "def getDictionary(transaction_set, flag_lab = False):\n",
        "  all = set()\n",
        "  for i in transaction_set:\n",
        "    all|=i\n",
        "  all = list(all)\n",
        "  dictionary = {}\n",
        "  j = 0\n",
        "  for i in range(len(all)):\n",
        "    if flag_lab:\n",
        "      if all[i] in top:\n",
        "        dictionary.update({all[i]:j})\n",
        "        j+=1\n",
        "    else:\n",
        "        dictionary.update({all[i]:j})\n",
        "        j+=1\n",
        "\n",
        "\n",
        "  return dictionary\n",
        "  \n",
        "dictionary = getDictionary(transaction_set)\n",
        "dictionary_lab = getDictionary(transaction_set, True)"
      ],
      "metadata": {
        "id": "R2i9aPaipBjJ"
      },
      "execution_count": 9,
      "outputs": []
    },
    {
      "cell_type": "code",
      "source": [
        "dictionary_lab[5912]"
      ],
      "metadata": {
        "colab": {
          "base_uri": "https://localhost:8080/"
        },
        "id": "ZZOcldy65NAY",
        "outputId": "51879288-5fac-4938-cb66-ab58791a9200"
      },
      "execution_count": 10,
      "outputs": [
        {
          "output_type": "execute_result",
          "data": {
            "text/plain": [
              "26"
            ]
          },
          "metadata": {},
          "execution_count": 10
        }
      ]
    },
    {
      "cell_type": "code",
      "source": [
        "top_codes"
      ],
      "metadata": {
        "colab": {
          "base_uri": "https://localhost:8080/"
        },
        "id": "qp0YjDFIGnEl",
        "outputId": "63920373-52f7-4bb8-cc5e-88ea6d8d0fbe"
      },
      "execution_count": 64,
      "outputs": [
        {
          "output_type": "execute_result",
          "data": {
            "text/plain": [
              "6011    700677\n",
              "6010    490602\n",
              "4814    473396\n",
              "5411    472408\n",
              "4829    307388\n",
              "         ...  \n",
              "9402        24\n",
              "6513        23\n",
              "5697        19\n",
              "8244        13\n",
              "7629        11\n",
              "Name: Data, Length: 184, dtype: int64"
            ]
          },
          "metadata": {},
          "execution_count": 64
        }
      ]
    },
    {
      "cell_type": "code",
      "source": [
        "pd.DataFrame(top_codes).describe()"
      ],
      "metadata": {
        "colab": {
          "base_uri": "https://localhost:8080/",
          "height": 300
        },
        "id": "68b1cBOE6ohW",
        "outputId": "6ee1a25f-700b-4f28-d3a2-4aaecf267de1"
      },
      "execution_count": 12,
      "outputs": [
        {
          "output_type": "execute_result",
          "data": {
            "text/plain": [
              "               Data\n",
              "count     184.00000\n",
              "mean    18091.73913\n",
              "std     83063.01458\n",
              "min        11.00000\n",
              "25%       108.75000\n",
              "50%       564.00000\n",
              "75%      3767.50000\n",
              "max    700677.00000"
            ],
            "text/html": [
              "\n",
              "  <div id=\"df-b8ce480d-a5bd-4230-848c-861f4e7d5700\">\n",
              "    <div class=\"colab-df-container\">\n",
              "      <div>\n",
              "<style scoped>\n",
              "    .dataframe tbody tr th:only-of-type {\n",
              "        vertical-align: middle;\n",
              "    }\n",
              "\n",
              "    .dataframe tbody tr th {\n",
              "        vertical-align: top;\n",
              "    }\n",
              "\n",
              "    .dataframe thead th {\n",
              "        text-align: right;\n",
              "    }\n",
              "</style>\n",
              "<table border=\"1\" class=\"dataframe\">\n",
              "  <thead>\n",
              "    <tr style=\"text-align: right;\">\n",
              "      <th></th>\n",
              "      <th>Data</th>\n",
              "    </tr>\n",
              "  </thead>\n",
              "  <tbody>\n",
              "    <tr>\n",
              "      <th>count</th>\n",
              "      <td>184.00000</td>\n",
              "    </tr>\n",
              "    <tr>\n",
              "      <th>mean</th>\n",
              "      <td>18091.73913</td>\n",
              "    </tr>\n",
              "    <tr>\n",
              "      <th>std</th>\n",
              "      <td>83063.01458</td>\n",
              "    </tr>\n",
              "    <tr>\n",
              "      <th>min</th>\n",
              "      <td>11.00000</td>\n",
              "    </tr>\n",
              "    <tr>\n",
              "      <th>25%</th>\n",
              "      <td>108.75000</td>\n",
              "    </tr>\n",
              "    <tr>\n",
              "      <th>50%</th>\n",
              "      <td>564.00000</td>\n",
              "    </tr>\n",
              "    <tr>\n",
              "      <th>75%</th>\n",
              "      <td>3767.50000</td>\n",
              "    </tr>\n",
              "    <tr>\n",
              "      <th>max</th>\n",
              "      <td>700677.00000</td>\n",
              "    </tr>\n",
              "  </tbody>\n",
              "</table>\n",
              "</div>\n",
              "      <button class=\"colab-df-convert\" onclick=\"convertToInteractive('df-b8ce480d-a5bd-4230-848c-861f4e7d5700')\"\n",
              "              title=\"Convert this dataframe to an interactive table.\"\n",
              "              style=\"display:none;\">\n",
              "        \n",
              "  <svg xmlns=\"http://www.w3.org/2000/svg\" height=\"24px\"viewBox=\"0 0 24 24\"\n",
              "       width=\"24px\">\n",
              "    <path d=\"M0 0h24v24H0V0z\" fill=\"none\"/>\n",
              "    <path d=\"M18.56 5.44l.94 2.06.94-2.06 2.06-.94-2.06-.94-.94-2.06-.94 2.06-2.06.94zm-11 1L8.5 8.5l.94-2.06 2.06-.94-2.06-.94L8.5 2.5l-.94 2.06-2.06.94zm10 10l.94 2.06.94-2.06 2.06-.94-2.06-.94-.94-2.06-.94 2.06-2.06.94z\"/><path d=\"M17.41 7.96l-1.37-1.37c-.4-.4-.92-.59-1.43-.59-.52 0-1.04.2-1.43.59L10.3 9.45l-7.72 7.72c-.78.78-.78 2.05 0 2.83L4 21.41c.39.39.9.59 1.41.59.51 0 1.02-.2 1.41-.59l7.78-7.78 2.81-2.81c.8-.78.8-2.07 0-2.86zM5.41 20L4 18.59l7.72-7.72 1.47 1.35L5.41 20z\"/>\n",
              "  </svg>\n",
              "      </button>\n",
              "      \n",
              "  <style>\n",
              "    .colab-df-container {\n",
              "      display:flex;\n",
              "      flex-wrap:wrap;\n",
              "      gap: 12px;\n",
              "    }\n",
              "\n",
              "    .colab-df-convert {\n",
              "      background-color: #E8F0FE;\n",
              "      border: none;\n",
              "      border-radius: 50%;\n",
              "      cursor: pointer;\n",
              "      display: none;\n",
              "      fill: #1967D2;\n",
              "      height: 32px;\n",
              "      padding: 0 0 0 0;\n",
              "      width: 32px;\n",
              "    }\n",
              "\n",
              "    .colab-df-convert:hover {\n",
              "      background-color: #E2EBFA;\n",
              "      box-shadow: 0px 1px 2px rgba(60, 64, 67, 0.3), 0px 1px 3px 1px rgba(60, 64, 67, 0.15);\n",
              "      fill: #174EA6;\n",
              "    }\n",
              "\n",
              "    [theme=dark] .colab-df-convert {\n",
              "      background-color: #3B4455;\n",
              "      fill: #D2E3FC;\n",
              "    }\n",
              "\n",
              "    [theme=dark] .colab-df-convert:hover {\n",
              "      background-color: #434B5C;\n",
              "      box-shadow: 0px 1px 3px 1px rgba(0, 0, 0, 0.15);\n",
              "      filter: drop-shadow(0px 1px 2px rgba(0, 0, 0, 0.3));\n",
              "      fill: #FFFFFF;\n",
              "    }\n",
              "  </style>\n",
              "\n",
              "      <script>\n",
              "        const buttonEl =\n",
              "          document.querySelector('#df-b8ce480d-a5bd-4230-848c-861f4e7d5700 button.colab-df-convert');\n",
              "        buttonEl.style.display =\n",
              "          google.colab.kernel.accessAllowed ? 'block' : 'none';\n",
              "\n",
              "        async function convertToInteractive(key) {\n",
              "          const element = document.querySelector('#df-b8ce480d-a5bd-4230-848c-861f4e7d5700');\n",
              "          const dataTable =\n",
              "            await google.colab.kernel.invokeFunction('convertToInteractive',\n",
              "                                                     [key], {});\n",
              "          if (!dataTable) return;\n",
              "\n",
              "          const docLinkHtml = 'Like what you see? Visit the ' +\n",
              "            '<a target=\"_blank\" href=https://colab.research.google.com/notebooks/data_table.ipynb>data table notebook</a>'\n",
              "            + ' to learn more about interactive tables.';\n",
              "          element.innerHTML = '';\n",
              "          dataTable['output_type'] = 'display_data';\n",
              "          await google.colab.output.renderOutput(dataTable, element);\n",
              "          const docLink = document.createElement('div');\n",
              "          docLink.innerHTML = docLinkHtml;\n",
              "          element.appendChild(docLink);\n",
              "        }\n",
              "      </script>\n",
              "    </div>\n",
              "  </div>\n",
              "  "
            ]
          },
          "metadata": {},
          "execution_count": 12
        }
      ]
    },
    {
      "cell_type": "code",
      "source": [
        "train = df_train['Data']\n",
        "label = df_train['Target']"
      ],
      "metadata": {
        "id": "a7GCu2J2pBpI"
      },
      "execution_count": 13,
      "outputs": []
    },
    {
      "cell_type": "code",
      "source": [
        "top"
      ],
      "metadata": {
        "colab": {
          "base_uri": "https://localhost:8080/"
        },
        "id": "5OSgGh0t3gPa",
        "outputId": "57f7490b-ad6d-4052-d596-2988f4495bbe"
      },
      "execution_count": 14,
      "outputs": [
        {
          "output_type": "execute_result",
          "data": {
            "text/plain": [
              "{4112,\n",
              " 4812,\n",
              " 4814,\n",
              " 4816,\n",
              " 4829,\n",
              " 4900,\n",
              " 5200,\n",
              " 5211,\n",
              " 5261,\n",
              " 5311,\n",
              " 5331,\n",
              " 5399,\n",
              " 5411,\n",
              " 5499,\n",
              " 5533,\n",
              " 5541,\n",
              " 5621,\n",
              " 5641,\n",
              " 5651,\n",
              " 5661,\n",
              " 5691,\n",
              " 5699,\n",
              " 5712,\n",
              " 5722,\n",
              " 5732,\n",
              " 5735,\n",
              " 5812,\n",
              " 5813,\n",
              " 5814,\n",
              " 5912,\n",
              " 5921,\n",
              " 5941,\n",
              " 5942,\n",
              " 5945,\n",
              " 5964,\n",
              " 5977,\n",
              " 5983,\n",
              " 5995,\n",
              " 5999,\n",
              " 6010,\n",
              " 6011,\n",
              " 6012,\n",
              " 6051,\n",
              " 7311,\n",
              " 7399,\n",
              " 7832,\n",
              " 7994,\n",
              " 7995,\n",
              " 8099,\n",
              " 8999}"
            ]
          },
          "metadata": {},
          "execution_count": 14
        }
      ]
    },
    {
      "cell_type": "code",
      "source": [
        "Counter([11,11,11,21,21,31]).most_common(1)[0][0]"
      ],
      "metadata": {
        "colab": {
          "base_uri": "https://localhost:8080/"
        },
        "id": "fTBf53ZZy2Zp",
        "outputId": "3f2af6c6-9500-4789-dd91-29f9eac27696"
      },
      "execution_count": 15,
      "outputs": [
        {
          "output_type": "execute_result",
          "data": {
            "text/plain": [
              "11"
            ]
          },
          "metadata": {},
          "execution_count": 15
        }
      ]
    },
    {
      "cell_type": "code",
      "source": [
        "from collections import Counter\n",
        "for i in range(len(label)):\n",
        "  for j in range(10):\n",
        "    if label[i][j] not in top:\n",
        "      label[i][j] = 8999 #Counter(label[i]).most_common(1)[0][0]\n",
        "\n",
        "len(set(np.array([np.array(i) for i in label]).reshape(-1,)))\n",
        "  "
      ],
      "metadata": {
        "colab": {
          "base_uri": "https://localhost:8080/"
        },
        "id": "Z_2O_70L3Z-J",
        "outputId": "0ec20adc-13ba-4400-99b1-16fa18490370"
      },
      "execution_count": 16,
      "outputs": [
        {
          "output_type": "execute_result",
          "data": {
            "text/plain": [
              "50"
            ]
          },
          "metadata": {},
          "execution_count": 16
        }
      ]
    },
    {
      "cell_type": "code",
      "source": [
        "from sklearn.pipeline import Pipeline\n",
        "from sklearn.feature_extraction.text import CountVectorizer\n",
        "corpus = [' '.join([str(dictionary[i]) for i in transact]) for transact in df_train['Data']]\n",
        "vectorizer = CountVectorizer()\n",
        "tr = TfidfTransformer()\n",
        "X = vectorizer.fit_transform(corpus)\n",
        "tr.fit(X)\n",
        "tfdf_date = tr.transform(X).toarray()"
      ],
      "metadata": {
        "id": "5mkxBYFvDPtd"
      },
      "execution_count": 17,
      "outputs": []
    },
    {
      "cell_type": "code",
      "source": [
        ""
      ],
      "metadata": {
        "id": "twncGu9jgd4n"
      },
      "execution_count": 17,
      "outputs": []
    },
    {
      "cell_type": "code",
      "source": [
        "top10_codes = df_train['Data'].explode().value_counts().head(10)\n",
        "def get_top_codes(transactions, top_n=10, drop_from=5):\n",
        "    transactions_stats = sorted(\n",
        "        Counter(transactions).items(), \n",
        "        key=lambda x: x[1], \n",
        "        reverse=True\n",
        "    )[:top_n]\n",
        "    \n",
        "\n",
        "    top_codes = [mcc_code for (mcc_code, count) in transactions_stats if count >= drop_from]\n",
        "    top_codes += list(top10_codes.index)\n",
        "\n",
        "    return top_codes[:10]\n",
        "\n",
        "\n",
        "context = df_train['Data'].apply(get_top_codes)"
      ],
      "metadata": {
        "id": "yva3Gi7ey6s5"
      },
      "execution_count": 18,
      "outputs": []
    },
    {
      "cell_type": "code",
      "source": [
        "def transform(label):\n",
        "\n",
        "    label = label[0]\n",
        "    for j in range(10):\n",
        "      if label[j] not in top:\n",
        "        label[j] = 8999 #Counter(label[i]).most_common(1)[0][0]\n",
        "    return [label ]\n",
        "\n",
        "class SegDataset(Dataset):\n",
        "\n",
        "  def __init__(self, data,cont,labels = None, batch_size = 522):\n",
        "    self.df = []\n",
        "    self.label = []\n",
        "    self.context = []\n",
        "    for ind in range(len(data)):\n",
        "      i = 0\n",
        "      histr = data[ind]\n",
        "      while len(histr) > i + batch_size+10:\n",
        "        self.df.append([histr[i:i+batch_size-10]])\n",
        "        self.label.append( transform([histr[i + batch_size - 10:i + batch_size]]))\n",
        "        self.context.append(cont[ind])\n",
        "        i+=batch_size \n",
        "\n",
        "      if len(histr) < batch_size:\n",
        "\n",
        "          histr = histr*(batch_size//len(histr)+1)\n",
        "          self.df.append(histr[:batch_size-10])\n",
        "          self.label.append( transform([histr[-10:]])[0])\n",
        "          self.context.append(cont[ind])\n",
        "      elif len(histr) < i and labels is not None:\n",
        "          self.df.append(histr[batch_size-10:-10])\n",
        "          self.label.append(labels[ind])\n",
        "          self.context.append(cont[ind])\n",
        "      \n",
        "      \n",
        "    \n",
        "  def __getitem__(self,index):\n",
        "     #print(self.label[index])\n",
        "     if len(self.df[index])==1:\n",
        "       self.df[index] = self.df[index][0]\n",
        "       self.label[index] = self.label[index][0]\n",
        "     #print(self.label[index],[i in dictionary_lab for i in self.label[index]], dictionary_lab )\n",
        "     return {\"data\": torch.tensor([dictionary[i] for i in self.df[index]]) , \"label\": torch.tensor([dictionary_lab[i] for i in self.label[index]]), 'context': torch.tensor([dictionary[i] for i in self.context[index]])}\n",
        "\n",
        "  def __len__(self):\n",
        "     return len(self.label)\n",
        "\n",
        "\n",
        "\n",
        "\n",
        "dataset = SegDataset(train, context ,label)\n",
        "train_dataset,valid_dataset  = random_split(dataset, [int(len(dataset)*0.8), len(dataset)-int(len(dataset)*0.8 )])\n",
        "\n",
        "train_dataset[8]\n"
      ],
      "metadata": {
        "id": "aIiUBvSC6lqY",
        "colab": {
          "base_uri": "https://localhost:8080/"
        },
        "outputId": "0b8db0b2-fab4-4008-869c-16155204a6f7"
      },
      "execution_count": 103,
      "outputs": [
        {
          "output_type": "execute_result",
          "data": {
            "text/plain": [
              "{'context': tensor([ 77, 149,  37,  97, 148, 147,  93, 121,  82,  75]),\n",
              " 'data': tensor([ 77,  77,  77,  77,  77, 149, 149,  77,  37,  77,  77,  77,  77,  77,\n",
              "          77,  77,  37,  77,  37,  37,  37,  77,  77,  77,  77,  77,  77,  75,\n",
              "          99,  75,  37,  75, 149,  37, 147,  77, 149,  37,  77,  77,  77,  77,\n",
              "          77,  77,  77,  77,  77, 149, 100,  37,  77,  77,  77,  77,  77,  77,\n",
              "          77,  77,  77,  77,  77,  39,  77,  77, 149,  77,  77,  77,  77, 149,\n",
              "          77,  77,  79,  79,  77,  77,  77,  77,  77,  77,  37,  77,  77,  77,\n",
              "          77,  77,  77,  77,  77,  82, 147, 149, 149, 149, 149, 148,  77,  37,\n",
              "         147,  77,  77, 147, 149, 149, 147,  37, 149,  77,  77,  77,  77, 147,\n",
              "         149,  97,  97, 147, 148, 149,  77, 149, 149,  37, 149,  82,  77,  77,\n",
              "         149,  63,  77, 149,  97,  77, 147,  77,  77,  77,  82, 149, 148, 147,\n",
              "         149, 149, 148,  97,  97, 149, 109,  37, 143,  97,  77, 149, 148,  97,\n",
              "          77,  37, 149, 149, 149, 149, 149,  77,  97, 148,  97, 104, 149, 148,\n",
              "         143,  37,  37,  37,  37,  75, 147,  37, 147,  77,  77,  77, 149, 149,\n",
              "          37, 128, 149, 128,  97, 149, 132,  62, 149, 149,  82,  82, 149,  62,\n",
              "         149,  81,  97,  82,  97, 148, 147,  54,  62,  62, 149,  64,  64,  97,\n",
              "         147,  77,  77,  77,  62, 149,  54, 149, 149, 149, 149,  93,  62, 149,\n",
              "          63,  97,  97, 180,  37,  97,  97,  37,  81, 147,  77,  97,  76, 121,\n",
              "         101,  37,  75,  64, 149,  75,  37, 143, 121, 148, 148, 148, 148,  77,\n",
              "         149, 148, 100, 109, 147,  85, 100,  97, 121, 121, 109,  97,  37,  93,\n",
              "          77,  77, 149, 148, 132,  21, 149, 149,  37, 147,  37,  93, 149,  93,\n",
              "          93,  93, 148, 149, 149,  97, 140,  93,  77,  77,  37,  93, 121, 147,\n",
              "         148, 149, 149,  81, 149, 148, 149,  97, 148, 109, 100,  77, 149,  82,\n",
              "         121, 149,  93, 148, 149, 147, 149,  63,  63,  77, 121,  97, 121,  77,\n",
              "          77,  77,  97, 149, 148,  97, 149,  93,  77, 149, 149,  75, 147,  37,\n",
              "         148, 149, 149,  37, 149,  82,  63,  63,  37, 149,  77,  97, 149,  35,\n",
              "         149, 149, 121, 100, 121,  75,  37,  82, 149,  93,  77,  77,  77,  77,\n",
              "          77, 149, 149,  77,  37,  77,  77,  77,  77,  77,  77,  77,  37,  77,\n",
              "          37,  37,  37,  77,  77,  77,  77,  77,  77,  75,  99,  75,  37,  75,\n",
              "         149,  37, 147,  77, 149,  37,  77,  77,  77,  77,  77,  77,  77,  77,\n",
              "          77, 149, 100,  37,  77,  77,  77,  77,  77,  77,  77,  77,  77,  77,\n",
              "          77,  39,  77,  77, 149,  77,  77,  77,  77, 149,  77,  77,  79,  79,\n",
              "          77,  77,  77,  77,  77,  77,  37,  77,  77,  77,  77,  77,  77,  77,\n",
              "          77,  82, 147, 149, 149, 149, 149, 148,  77,  37, 147,  77,  77, 147,\n",
              "         149, 149, 147,  37, 149,  77,  77,  77,  77, 147, 149,  97,  97, 147,\n",
              "         148, 149,  77, 149, 149,  37, 149,  82,  77,  77, 149,  63,  77, 149,\n",
              "          97,  77, 147,  77,  77,  77,  82, 149, 148, 147, 149, 149, 148,  97,\n",
              "          97, 149, 109,  37, 143,  97,  77, 149]),\n",
              " 'label': tensor([43, 43, 36, 30, 36, 19, 10, 23, 43, 26])}"
            ]
          },
          "metadata": {},
          "execution_count": 103
        }
      ]
    },
    {
      "cell_type": "code",
      "source": [
        ""
      ],
      "metadata": {
        "id": "ZtqTVS6S-SV5"
      },
      "execution_count": 103,
      "outputs": []
    },
    {
      "cell_type": "code",
      "source": [
        "class SegTestDataset(Dataset):\n",
        "\n",
        "  def __init__(self, data,context, batch_size = 522):\n",
        "    self.df = [] \n",
        "    self.context = []\n",
        "    for ind in range(len(data)):\n",
        "      i = 0\n",
        "      histr = data[ind]\n",
        "      self.context.append(context[ind])\n",
        "      \n",
        "      if len(histr) < batch_size:\n",
        "\n",
        "          histr = histr*(batch_size//len(histr)+1)\n",
        "          self.df.append(histr[10:batch_size])\n",
        "          #print(len(histr[10:batch_size]))\n",
        "\n",
        "      else:\n",
        "          self.df.append(histr[:batch_size-10])\n",
        "          #print(len(histr[10:batch_size]))\n",
        " \n",
        "      \n",
        "      \n",
        "    \n",
        "  def __getitem__(self,index):\n",
        "     #print(self.label[index])\n",
        "     if len(self.df[index])==1:\n",
        "       self.df[index] = self.df[index][0]\n",
        "     #print(torch.tensor([dictionary[i] for i in self.df[index]]),  self.label[index] )\n",
        "\n",
        "     return {\"data\": torch.tensor([dictionary[i] for i in self.df[index]]), 'context': torch.tensor([dictionary[i] for i in self.context[index]])}\n",
        "\n",
        "  def __len__(self):\n",
        "     return len(self.df)\n",
        "\n",
        "context = df_test['Data'].apply(get_top_codes)\n",
        "dataset = SegTestDataset(df_test['Data'],context)\n",
        "test_dataset = torch.utils.data.Subset(dataset, range(len(dataset)))\n",
        "test_dataset[7]"
      ],
      "metadata": {
        "id": "oO-CuBtOJiCL",
        "colab": {
          "base_uri": "https://localhost:8080/"
        },
        "outputId": "cf81544f-e1be-4529-f9e8-24605ac54b1d"
      },
      "execution_count": 104,
      "outputs": [
        {
          "output_type": "execute_result",
          "data": {
            "text/plain": [
              "{'context': tensor([149, 147,  96, 149, 147,  77,  97,  82, 148, 161]),\n",
              " 'data': tensor([149, 149, 149, 149, 149, 147, 149, 149, 149, 149, 149, 149, 149,  96,\n",
              "         147, 149, 149, 149, 149, 149, 149, 149, 149, 149,  93, 149, 149, 149,\n",
              "          96, 149, 149, 149, 149, 147, 149, 149, 149, 149, 149, 149, 149, 149,\n",
              "         149, 149,  97, 149,  96, 149, 149, 147, 106, 149, 149, 149,  96, 149,\n",
              "         149, 147, 149,  97, 149, 149, 149,  96,  97,  97, 149,  64, 149, 149,\n",
              "         149,  93, 149,  96, 149, 149, 149, 149, 147, 149, 149, 149, 149, 149,\n",
              "         149, 149, 147, 147, 149, 149, 147, 149, 149, 149, 149, 149, 149, 149,\n",
              "         147,  96, 149, 147, 149, 149, 149, 147, 149, 149, 149, 149, 149, 149,\n",
              "         149, 147, 149, 149, 149, 149, 149, 149, 149,  96, 147, 149, 149, 149,\n",
              "         149, 149, 149, 149, 149, 149,  93, 149, 149, 149,  96, 149, 149, 149,\n",
              "         149, 147, 149, 149, 149, 149, 149, 149, 149, 149, 149, 149,  97, 149,\n",
              "          96, 149, 149, 147, 106, 149, 149, 149,  96, 149, 149, 147, 149,  97,\n",
              "         149, 149, 149,  96,  97,  97, 149,  64, 149, 149, 149,  93, 149,  96,\n",
              "         149, 149, 149, 149, 147, 149, 149, 149, 149, 149, 149, 149, 147, 147,\n",
              "         149, 149, 147, 149, 149, 149, 149, 149, 149, 149, 147,  96, 149, 147,\n",
              "         149, 149, 149, 147, 149, 149, 149, 149, 149, 149, 149, 147, 149, 149,\n",
              "         149, 149, 149, 149, 149,  96, 147, 149, 149, 149, 149, 149, 149, 149,\n",
              "         149, 149,  93, 149, 149, 149,  96, 149, 149, 149, 149, 147, 149, 149,\n",
              "         149, 149, 149, 149, 149, 149, 149, 149,  97, 149,  96, 149, 149, 147,\n",
              "         106, 149, 149, 149,  96, 149, 149, 147, 149,  97, 149, 149, 149,  96,\n",
              "          97,  97, 149,  64, 149, 149, 149,  93, 149,  96, 149, 149, 149, 149,\n",
              "         147, 149, 149, 149, 149, 149, 149, 149, 147, 147, 149, 149, 147, 149,\n",
              "         149, 149, 149, 149, 149, 149, 147,  96, 149, 147, 149, 149, 149, 147,\n",
              "         149, 149, 149, 149, 149, 149, 149, 147, 149, 149, 149, 149, 149, 149,\n",
              "         149,  96, 147, 149, 149, 149, 149, 149, 149, 149, 149, 149,  93, 149,\n",
              "         149, 149,  96, 149, 149, 149, 149, 147, 149, 149, 149, 149, 149, 149,\n",
              "         149, 149, 149, 149,  97, 149,  96, 149, 149, 147, 106, 149, 149, 149,\n",
              "          96, 149, 149, 147, 149,  97, 149, 149, 149,  96,  97,  97, 149,  64,\n",
              "         149, 149, 149,  93, 149,  96, 149, 149, 149, 149, 147, 149, 149, 149,\n",
              "         149, 149, 149, 149, 147, 147, 149, 149, 147, 149, 149, 149, 149, 149,\n",
              "         149, 149, 147,  96, 149, 147, 149, 149, 149, 147, 149, 149, 149, 149,\n",
              "         149, 149, 149, 147, 149, 149, 149, 149, 149, 149, 149,  96, 147, 149,\n",
              "         149, 149, 149, 149, 149, 149, 149, 149,  93, 149, 149, 149,  96, 149,\n",
              "         149, 149, 149, 147, 149, 149, 149, 149, 149, 149, 149, 149, 149, 149,\n",
              "          97, 149,  96, 149, 149, 147, 106, 149, 149, 149,  96, 149, 149, 147,\n",
              "         149,  97, 149, 149, 149,  96,  97,  97, 149,  64, 149, 149, 149,  93,\n",
              "         149,  96, 149, 149, 149, 149, 147, 149])}"
            ]
          },
          "metadata": {},
          "execution_count": 104
        }
      ]
    },
    {
      "cell_type": "code",
      "source": [
        "\n",
        "\n",
        "class ReviewsSampler(Sampler):\n",
        "    def __init__(self, subset, batch_size=32):\n",
        "        self.batch_size = batch_size\n",
        "        self.subset = subset\n",
        "\n",
        "        self.indices = subset.indices\n",
        "\n",
        "        self.data = np.array(subset.dataset.df)[self.indices]\n",
        "\n",
        "    def __iter__(self):\n",
        "\n",
        "        batch_idx = []\n",
        "\n",
        "        for index in np.argsort(list(map(len, self.data))):\n",
        "            batch_idx.append(index)\n",
        "            if len(batch_idx) == self.batch_size:\n",
        "                yield batch_idx\n",
        "                batch_idx = []\n",
        "\n",
        "        if len(batch_idx) > 0:\n",
        "            yield batch_idx\n",
        "\n",
        "    def __len__(self):\n",
        "        return len(self.dataset)\n",
        "\n",
        "\n",
        "\n",
        "\n",
        "\n"
      ],
      "metadata": {
        "id": "h7r0Fx1j0R-f"
      },
      "execution_count": 105,
      "outputs": []
    },
    {
      "cell_type": "code",
      "source": [
        "train_loader = DataLoader(train_dataset, batch_sampler=ReviewsSampler(train_dataset,batch_size=64))\n",
        "valid_loader = DataLoader(valid_dataset, batch_sampler=ReviewsSampler(valid_dataset, batch_size=64))\n"
      ],
      "metadata": {
        "id": "U5bVEN5KpBr_",
        "colab": {
          "base_uri": "https://localhost:8080/"
        },
        "outputId": "ca4bbe9d-ede6-496b-ed38-e8bd35db371d"
      },
      "execution_count": 107,
      "outputs": [
        {
          "output_type": "stream",
          "name": "stderr",
          "text": [
            "/usr/local/lib/python3.7/dist-packages/ipykernel_launcher.py:10: VisibleDeprecationWarning: Creating an ndarray from ragged nested sequences (which is a list-or-tuple of lists-or-tuples-or ndarrays with different lengths or shapes) is deprecated. If you meant to do this, you must specify 'dtype=object' when creating the ndarray.\n",
            "  # Remove the CWD from sys.path while we load stuff.\n"
          ]
        }
      ]
    },
    {
      "cell_type": "code",
      "source": [
        "test_loader = DataLoader(test_dataset,  batch_sampler=ReviewsSampler(test_dataset,batch_size=64))"
      ],
      "metadata": {
        "id": "v0s1vweXyDsV"
      },
      "execution_count": 108,
      "outputs": []
    },
    {
      "cell_type": "code",
      "source": [
        "for i in test_loader:\n",
        "  print(i['data'][0])\n",
        "  break\n",
        "for i in train_loader:\n",
        "  print(i['data'].shape, i['context'].shape)\n",
        "  break"
      ],
      "metadata": {
        "id": "K7rTS7Pf6sVl",
        "colab": {
          "base_uri": "https://localhost:8080/"
        },
        "outputId": "656b0eb6-c545-43df-ef96-21a1eda946ce"
      },
      "execution_count": 109,
      "outputs": [
        {
          "output_type": "stream",
          "name": "stdout",
          "text": [
            "tensor([ 77, 149,  77,  77, 149, 149,  77,  77, 149, 149, 149,  77,  77, 149,\n",
            "        149, 149, 149,  77,  77, 149, 149, 149, 149,  77, 149,  77,  77,  77,\n",
            "         77,  77, 149, 149,  77,  77,  77,  77, 149, 149, 149,  77, 149, 149,\n",
            "         77, 149,  77, 149, 149,  77, 149, 149,  77, 149,  77,  77,  77, 149,\n",
            "        149,  77, 149,  77, 149, 149, 149, 149, 149,  77,  97,  77,  73, 149,\n",
            "        149,  77, 149,  77, 149, 149,  77,  73,  77,  77,  77, 149,  97, 149,\n",
            "         73,  97, 149,  97,  97,  73,  73,  77, 149,  73,  73,  77, 149,  77,\n",
            "         73,  73, 149,  77,  77,  97, 149,  77,  77,  77,  97, 149, 149,  97,\n",
            "         77, 149,  77,  77,  77, 149,  77,  77,  97,  73, 149,  73, 149,  73,\n",
            "        149,  77,  73,  77,  73, 149,  97,  73,  97, 149,  73,  97,  97, 149,\n",
            "         77, 149,  77,  73,  77,  73,  77,  96,  97,  97, 149,  73,  97,  97,\n",
            "         77,  73,  77,  73,  77, 149, 149,  96,  77,  77,  77,  77,  97,  97,\n",
            "         73,  97,  97, 149,  73,  73, 149, 149, 149,  77,  77,  77,  77,  77,\n",
            "         97,  73,  97, 149,  73,  97,  73,  97,  73,  97,  77, 149,  97,  73,\n",
            "         97, 149,  77, 149,  77,  77,  77,  77,  77,  77,  77,  77, 147, 149,\n",
            "         77, 149, 149,  77, 149, 149,  77, 149,  77,  77, 149, 149,  77,  77,\n",
            "        149, 149, 149,  77,  77, 149, 149, 149, 149,  77,  77, 149, 149, 149,\n",
            "        149,  77, 149,  77,  77,  77,  77,  77, 149, 149,  77,  77,  77,  77,\n",
            "        149, 149, 149,  77, 149, 149,  77, 149,  77, 149, 149,  77, 149, 149,\n",
            "         77, 149,  77,  77,  77, 149, 149,  77, 149,  77, 149, 149, 149, 149,\n",
            "        149,  77,  97,  77,  73, 149, 149,  77, 149,  77, 149, 149,  77,  73,\n",
            "         77,  77,  77, 149,  97, 149,  73,  97, 149,  97,  97,  73,  73,  77,\n",
            "        149,  73,  73,  77, 149,  77,  73,  73, 149,  77,  77,  97, 149,  77,\n",
            "         77,  77,  97, 149, 149,  97,  77, 149,  77,  77,  77, 149,  77,  77,\n",
            "         97,  73, 149,  73, 149,  73, 149,  77,  73,  77,  73, 149,  97,  73,\n",
            "         97, 149,  73,  97,  97, 149,  77, 149,  77,  73,  77,  73,  77,  96,\n",
            "         97,  97, 149,  73,  97,  97,  77,  73,  77,  73,  77, 149, 149,  96,\n",
            "         77,  77,  77,  77,  97,  97,  73,  97,  97, 149,  73,  73, 149, 149,\n",
            "        149,  77,  77,  77,  77,  77,  97,  73,  97, 149,  73,  97,  73,  97,\n",
            "         73,  97,  77, 149,  97,  73,  97, 149,  77, 149,  77,  77,  77,  77,\n",
            "         77,  77,  77,  77, 147, 149,  77, 149, 149,  77, 149, 149,  77, 149,\n",
            "         77,  77, 149, 149,  77,  77, 149, 149, 149,  77,  77, 149, 149, 149,\n",
            "        149,  77,  77, 149, 149, 149, 149,  77, 149,  77,  77,  77,  77,  77,\n",
            "        149, 149,  77,  77,  77,  77, 149, 149, 149,  77, 149, 149,  77, 149,\n",
            "         77, 149, 149,  77, 149, 149,  77, 149,  77,  77,  77, 149, 149,  77,\n",
            "        149,  77, 149, 149, 149, 149, 149,  77,  97,  77,  73, 149, 149,  77,\n",
            "        149,  77, 149, 149,  77,  73,  77,  77])\n",
            "torch.Size([64, 512]) torch.Size([64, 10])\n"
          ]
        }
      ]
    },
    {
      "cell_type": "code",
      "source": [
        "class Encoder(nn.Module):\n",
        "    def __init__(self, input_dim, emb_dim, hid_dim, emb_cont_dim, k,  dropout):\n",
        "        super().__init__()\n",
        "\n",
        "        self.hid_dim = hid_dim\n",
        "        \n",
        "        self.embedding = nn.Embedding(input_dim, emb_dim) \n",
        "        #print(emb_cont_dim)\n",
        "        self.embedding_context =  nn.Linear(k, emb_cont_dim)\n",
        "\n",
        "        self.rnn = nn.GRU(emb_dim, hid_dim)\n",
        "        \n",
        "        self.dropout = nn.Dropout(dropout)\n",
        "        self.relu = nn.ReLU()\n",
        "        \n",
        "    def forward(self, src, context):\n",
        "        \n",
        "        #src = [src len, batch size]\n",
        "        #print(src.shape)\n",
        "        embedded = self.dropout(self.embedding(src))\n",
        "        #print(embedded.shape)\n",
        "        emb_cont =self.relu( self.dropout(self.embedding_context (context.to(torch.float))))\n",
        "        \n",
        "        #embedded = [src len, batch size, emb dim]\n",
        "        \n",
        "        outputs, hidden = self.rnn(embedded) #no cell state!\n",
        "        #print(hidden.shape,emb_cont.shape)\n",
        "        hidden = torch.concat((hidden,emb_cont.unsqueeze(0)), axis = 2)\n",
        "        #outputs = [src len, batch size, hid dim + emb_cont_dim]\n",
        "        \n",
        "        #outputs are always from the top hidden layer\n",
        "        \n",
        "        return hidden, outputs"
      ],
      "metadata": {
        "id": "uCXl1EL--Om4"
      },
      "execution_count": 110,
      "outputs": []
    },
    {
      "cell_type": "code",
      "source": [
        "SIZE = 186\n",
        "EMB_SIZE = 256\n",
        "EMB_CONT_SIZE = 64\n",
        "HID_DIM = 128\n",
        "DROPOUT = 0.1"
      ],
      "metadata": {
        "id": "fkICHJXYy6FF"
      },
      "execution_count": 132,
      "outputs": []
    },
    {
      "cell_type": "code",
      "source": [
        "encoder = Encoder(SIZE, EMB_SIZE, HID_DIM,EMB_CONT_SIZE, 10, DROPOUT)"
      ],
      "metadata": {
        "id": "57VNiuR4Ablx"
      },
      "execution_count": 133,
      "outputs": []
    },
    {
      "cell_type": "code",
      "source": [
        ""
      ],
      "metadata": {
        "id": "wlJDKSvtBORp"
      },
      "execution_count": 133,
      "outputs": []
    },
    {
      "cell_type": "code",
      "source": [
        "class PredictScoring(nn.Module):\n",
        "     def __init__(self, input_dim, encoder, dropout = 0.05, output_dim = 50, emb_conext_dim = 64):\n",
        "        super().__init__()\n",
        "\n",
        "        self.encoder = encoder\n",
        "          \n",
        "        self.fc = nn.Linear(input_dim, output_dim)\n",
        "        self.relu = nn.ReLU()\n",
        "        \n",
        "\n",
        "        self.dropout = nn.Dropout(dropout)\n",
        "        \n",
        "     def forward(self, trans, context, label=[], k =10):\n",
        "        \n",
        "        #src = [src len, batch size]\n",
        "\n",
        "        preds = None\n",
        "        for step in range(k):\n",
        "          \n",
        "          pred, _ = self.encoder(trans, context)\n",
        "          #print(pred.shape,context.shape, trans.shape)\n",
        "\n",
        "          pred =  self.relu(self.dropout(self.fc(pred)))\n",
        "\n",
        "          if preds is None:\n",
        "            preds = pred\n",
        "          else:\n",
        "            #print(preds.shape,torch.unsqueeze(pred,0).shape)\n",
        "            preds = torch.concat((preds,pred))\n",
        "          #print(trans, label)\n",
        "          if len(label)>0:\n",
        "            #print(1)\n",
        "            trans = torch.concat((trans[1:], label[step].unsqueeze(0)))\n",
        "          else:\n",
        "            #print((trans[1:].shape, torch.argmax(pred, axis =2).shape))\n",
        "            trans = torch.concat((trans[1:], torch.argmax(pred, axis =2)))\n",
        "            #print(trans.shape,torch.argmax(pred, axis =2).shape, trans[1:].shape)\n",
        "\n",
        "        return preds\n"
      ],
      "metadata": {
        "id": "__sWqcWs_fwg"
      },
      "execution_count": 134,
      "outputs": []
    },
    {
      "cell_type": "code",
      "source": [
        "model = PredictScoring(HID_DIM +  EMB_CONT_SIZE ,encoder)\n"
      ],
      "metadata": {
        "id": "ak3Ev2prz87X"
      },
      "execution_count": 135,
      "outputs": []
    },
    {
      "cell_type": "code",
      "source": [
        "model.to(device)\n",
        "h = model(l.to(device), c, o.to(device))"
      ],
      "metadata": {
        "id": "Z9C7T1EpeW5n",
        "colab": {
          "base_uri": "https://localhost:8080/",
          "height": 183
        },
        "outputId": "44366e9a-e743-4852-940a-c97373f3ceda"
      },
      "execution_count": 136,
      "outputs": [
        {
          "output_type": "error",
          "ename": "NameError",
          "evalue": "ignored",
          "traceback": [
            "\u001b[0;31m---------------------------------------------------------------------------\u001b[0m",
            "\u001b[0;31mNameError\u001b[0m                                 Traceback (most recent call last)",
            "\u001b[0;32m<ipython-input-136-77b8ffe01f2b>\u001b[0m in \u001b[0;36m<module>\u001b[0;34m()\u001b[0m\n\u001b[1;32m      1\u001b[0m \u001b[0mmodel\u001b[0m\u001b[0;34m.\u001b[0m\u001b[0mto\u001b[0m\u001b[0;34m(\u001b[0m\u001b[0mdevice\u001b[0m\u001b[0;34m)\u001b[0m\u001b[0;34m\u001b[0m\u001b[0;34m\u001b[0m\u001b[0m\n\u001b[0;32m----> 2\u001b[0;31m \u001b[0mh\u001b[0m \u001b[0;34m=\u001b[0m \u001b[0mmodel\u001b[0m\u001b[0;34m(\u001b[0m\u001b[0ml\u001b[0m\u001b[0;34m.\u001b[0m\u001b[0mto\u001b[0m\u001b[0;34m(\u001b[0m\u001b[0mdevice\u001b[0m\u001b[0;34m)\u001b[0m\u001b[0;34m,\u001b[0m \u001b[0mc\u001b[0m\u001b[0;34m,\u001b[0m \u001b[0mo\u001b[0m\u001b[0;34m.\u001b[0m\u001b[0mto\u001b[0m\u001b[0;34m(\u001b[0m\u001b[0mdevice\u001b[0m\u001b[0;34m)\u001b[0m\u001b[0;34m)\u001b[0m\u001b[0;34m\u001b[0m\u001b[0;34m\u001b[0m\u001b[0m\n\u001b[0m",
            "\u001b[0;31mNameError\u001b[0m: name 'l' is not defined"
          ]
        }
      ]
    },
    {
      "cell_type": "code",
      "source": [
        "def apk(actual, predicted, k=10):\n",
        "    if len(predicted) > k:\n",
        "        predicted = predicted[:k]\n",
        "\n",
        "    score = 0.0\n",
        "    num_hits = 0.0\n",
        "\n",
        "    for i, p in enumerate(predicted):\n",
        "        if p in actual and p not in predicted[:i]:\n",
        "            num_hits += 1.0\n",
        "            score += num_hits / (i+1.0)\n",
        "\n",
        "\n",
        "    return score / min(len(actual), k)\n",
        "\n",
        "def mapk(actual, predicted, k=10):\n",
        "\n",
        "    return np.mean([apk(a, p, k) for a, p in zip(np.array(actual).reshape(-1,k), np.array(predicted).reshape(-1,k))])"
      ],
      "metadata": {
        "id": "qBw2ZcbR5P1l"
      },
      "execution_count": 137,
      "outputs": []
    },
    {
      "cell_type": "code",
      "source": [
        "from IPython.display import clear_output\n",
        "\n",
        "\n",
        "epochs = 5\n",
        "clip = 1\n",
        "\n",
        "def fit_model(model,train_loader,valid_loader,optim,criterion, epochs = 30, clip =1, save_name = 'model'):\n",
        "\n",
        "  losses = {\"train_losses\": [], \"valid_losses\": []}\n",
        "  train_history=[]\n",
        "  valid_history  = []\n",
        "  best_valid_loss = float('inf')\n",
        "  model.to(device)\n",
        "  for epoch in range(epochs):\n",
        "\n",
        "    print(f\"Start eposh #{epoch}\")\n",
        "    epoch_loss =0 \n",
        "    history = []\n",
        "    i=0\n",
        "    model.train()\n",
        "    train_loss =0\n",
        "    bath_size =0\n",
        "    \n",
        "    for train_batch in train_loader:\n",
        "      \n",
        "      labels = train_batch['label'].to(device)\n",
        "      input = train_batch['data'].permute(1,0).to(device)\n",
        "      context = train_batch['context'].to(device)\n",
        "      #return  input,labels.permute(1,0),context\n",
        "      output= model(input,context,labels.permute(1,0)).permute(1,2,0)\n",
        "      \n",
        "      optim.zero_grad()\n",
        "      \n",
        "      target = np.array([])\n",
        "\n",
        "      loss = criterion(output, labels) \n",
        "      loss.backward()\n",
        "      torch.nn.utils.clip_grad_norm_(model.parameters(), clip)\n",
        "      optim.step()\n",
        "      bath_size+=1\n",
        "      train_loss += loss.item()\n",
        "        \n",
        "      history.append(loss.cpu().data.numpy())\n",
        "      i+=1\n",
        "      if (i+1)%3==0:\n",
        "            fig, ax = plt.subplots(nrows=1, ncols=2, figsize=(12, 8))\n",
        "\n",
        "            clear_output(True)\n",
        "            ax[0].plot(history, label='train loss')\n",
        "            ax[0].set_xlabel('Batch')\n",
        "            ax[0].set_title('Train loss')\n",
        "            if len(train_history)>0 :\n",
        "                ax[1].plot(train_history, label='general train history')\n",
        "                ax[1].set_xlabel('Epoch')\n",
        "            if len(valid_history)>0:\n",
        "                ax[1].plot(valid_history, label='general valid history')\n",
        "                print(len(gold_labels_all), len(predict_labels_all))\n",
        "                #print(classification_report(gold_labels_all, predict_labels_all))\n",
        "                print(predict_labels_all[:10], gold_labels_all[:10], predict_labels)\n",
        "\n",
        "                print(mapk(gold_labels_all, predict_labels_all))\n",
        "                plt.legend()\n",
        "            \n",
        "            plt.show()\n",
        "  \n",
        "    train_history.append(train_loss/bath_size)\n",
        "\n",
        "    model.eval()\n",
        "    bath_size =0 \n",
        "    val_loss=0 \n",
        "    predict_labels_all, gold_labels_all = np.array([]), np.array([])\n",
        "\n",
        "    for valid_batch in valid_loader:\n",
        "\n",
        "      labels = valid_batch['label'].to(device)\n",
        "      input = valid_batch['data'].permute(1,0).to(device)\n",
        "      context = valid_batch['context'].to(device)\n",
        "      #return  input,labels.permute(1,0),context\n",
        "      output= model(input,context,labels.permute(1,0)).permute(1,2,0)\n",
        "      labels = labels\n",
        "      target = np.array([])\n",
        "\n",
        "      loss = criterion(output, labels)\n",
        "      bath_size+=1\n",
        "      val_loss += loss.item()\n",
        "      predict_labels = torch.argmax(output, axis =1)\n",
        "      \n",
        "      gold_labels = labels\n",
        "      predict_labels_all = np.append(predict_labels_all,predict_labels.cpu())\n",
        "      gold_labels_all = np.append(gold_labels_all,gold_labels.cpu())\n",
        "      #predict_labels_all.append(predict_labels.cpu().permute(1,0))\n",
        "      #gold_labels_all.append(gold_labels.cpu().permute(1,0))\n",
        "      #return gold_labels_all,predict_labels_all\n",
        "\n",
        "      \n",
        "\n",
        "\n",
        "    if val_loss < best_valid_loss:\n",
        "        best_valid_loss = val_loss\n",
        "        torch.save(model.state_dict(),f'/content/gdrive/MyDrive/Тестовое/best-val-model-{save_name}.pt')\n",
        "    valid_history.append(val_loss/(bath_size))\n",
        " \n",
        "    print(f\"End eposh #{epoch}\")\n",
        "\n"
      ],
      "metadata": {
        "id": "LcJY3VreU9AQ"
      },
      "execution_count": 138,
      "outputs": []
    },
    {
      "cell_type": "code",
      "source": [
        "from sklearn.utils import class_weight\n",
        "y = np.array([np.array(i) for i in label]).reshape(-1,)\n",
        "class_weights = class_weight.compute_class_weight(class_weight = 'balanced',\n",
        "                                                  classes = np.array(list(dictionary_lab.keys())),\n",
        "                                                  y = y)\n",
        "class_weights = torch.tensor(class_weights,dtype=torch.float).to(device)"
      ],
      "metadata": {
        "id": "nFtHg3j9QBsA"
      },
      "execution_count": 139,
      "outputs": []
    },
    {
      "cell_type": "code",
      "source": [
        ""
      ],
      "metadata": {
        "id": "SJuFL6vmAim8"
      },
      "execution_count": 139,
      "outputs": []
    },
    {
      "cell_type": "code",
      "source": [
        "y"
      ],
      "metadata": {
        "colab": {
          "base_uri": "https://localhost:8080/"
        },
        "id": "zFCO67fPAMoR",
        "outputId": "e05e190f-2cad-49c9-f721-bc27bb7b7250"
      },
      "execution_count": 100,
      "outputs": [
        {
          "output_type": "execute_result",
          "data": {
            "text/plain": [
              "array([4814, 4814, 4814, ..., 5541, 6010, 4814])"
            ]
          },
          "metadata": {},
          "execution_count": 100
        }
      ]
    },
    {
      "cell_type": "code",
      "source": [
        "def loss(output, labels, criterion = nn.CrossEntropyLoss()):\n",
        "  \n",
        "\n",
        "  i=0\n",
        "  count_dev = torch.argmax(output.permute(2,1,0), axis =1)\n",
        "\n",
        "  count_dev = np.mean([min(len(set(np.array(i.cpu()))),8) for i in count_dev.permute(1,0)])\n",
        "\n",
        "  loss = criterion(output, labels)\n",
        "  for w in range(len(output.permute(2,1,0))):\n",
        "    w_ind = torch.argmax(output.permute(2,1,0)[w], axis =0)\n",
        "        \n",
        "    for tr in labels.permute(1,0):\n",
        "      l =+ (tr==w_ind).to(int)\n",
        "    l = l.sum()/len(l)\n",
        "\n",
        "    loss = loss - 0.1*criterion(output[w].permute(1,0), labels[w])*l\n",
        "  return loss/count_dev\n"
      ],
      "metadata": {
        "id": "PYxiPR5ZN4Bm"
      },
      "execution_count": 140,
      "outputs": []
    },
    {
      "cell_type": "code",
      "source": [
        "criterion = nn.CrossEntropyLoss(weight = class_weights, reduction = 'mean')\n",
        "optim = torch.optim.AdamW(model.parameters(), lr=1e-5 )\n",
        "l, o,c = fit_model(model,train_loader,valid_loader,optim,loss , epochs = 200, clip =1, save_name = 'model')"
      ],
      "metadata": {
        "colab": {
          "base_uri": "https://localhost:8080/",
          "height": 1000
        },
        "id": "vxe38LL-1bLu",
        "outputId": "31d29a7a-44f1-47d7-b365-a6cc6aaf9c0c"
      },
      "execution_count": 141,
      "outputs": [
        {
          "output_type": "stream",
          "name": "stdout",
          "text": [
            "16140 16140\n",
            "[10. 10. 10. 10. 10. 10. 10. 10. 10. 10.] [43. 43. 43. 43. 43. 43. 20. 43. 20. 20.] tensor([[13, 13, 13, 13, 13, 13, 13, 13, 13, 13],\n",
            "        [13, 13, 13, 13, 13, 13, 13, 13, 13, 13],\n",
            "        [13, 13, 13, 13, 13, 13, 13, 13, 13, 13],\n",
            "        [13, 13, 13, 13, 13, 13, 13, 13, 13, 13],\n",
            "        [13, 13, 13, 13, 13, 13, 13, 13, 13, 13],\n",
            "        [13, 13, 13, 13, 13, 13, 13, 13, 13, 13],\n",
            "        [13, 13, 13, 13, 13, 13, 13, 13, 13, 13],\n",
            "        [13, 13, 13, 13, 13, 13, 13, 13, 13, 13],\n",
            "        [10, 10, 10, 10, 10, 10, 10, 10, 10, 10],\n",
            "        [13, 13, 13, 13, 13, 13, 13, 13, 13, 13],\n",
            "        [13, 13, 13, 13, 13, 13, 13, 13, 13, 13],\n",
            "        [10, 10, 10, 10, 10, 10, 10, 10, 10, 10],\n",
            "        [13, 13, 13, 13, 13, 13, 13, 13, 13, 13],\n",
            "        [13, 13, 13, 13, 13, 13, 13, 13, 13, 13]], device='cuda:0')\n",
            "0.0009665427509293681\n"
          ]
        },
        {
          "output_type": "display_data",
          "data": {
            "text/plain": [
              "<Figure size 864x576 with 2 Axes>"
            ],
            "image/png": "[encoded data removed]"
          },
          "metadata": {
            "needs_background": "light"
          }
        },
        {
          "output_type": "error",
          "ename": "KeyboardInterrupt",
          "evalue": "ignored",
          "traceback": [
            "\u001b[0;31m---------------------------------------------------------------------------\u001b[0m",
            "\u001b[0;31mKeyboardInterrupt\u001b[0m                         Traceback (most recent call last)",
            "\u001b[0;32m<ipython-input-141-0529176febb6>\u001b[0m in \u001b[0;36m<module>\u001b[0;34m()\u001b[0m\n\u001b[1;32m      1\u001b[0m \u001b[0mcriterion\u001b[0m \u001b[0;34m=\u001b[0m \u001b[0mnn\u001b[0m\u001b[0;34m.\u001b[0m\u001b[0mCrossEntropyLoss\u001b[0m\u001b[0;34m(\u001b[0m\u001b[0mweight\u001b[0m \u001b[0;34m=\u001b[0m \u001b[0mclass_weights\u001b[0m\u001b[0;34m,\u001b[0m \u001b[0mreduction\u001b[0m \u001b[0;34m=\u001b[0m \u001b[0;34m'mean'\u001b[0m\u001b[0;34m)\u001b[0m\u001b[0;34m\u001b[0m\u001b[0;34m\u001b[0m\u001b[0m\n\u001b[1;32m      2\u001b[0m \u001b[0moptim\u001b[0m \u001b[0;34m=\u001b[0m \u001b[0mtorch\u001b[0m\u001b[0;34m.\u001b[0m\u001b[0moptim\u001b[0m\u001b[0;34m.\u001b[0m\u001b[0mAdamW\u001b[0m\u001b[0;34m(\u001b[0m\u001b[0mmodel\u001b[0m\u001b[0;34m.\u001b[0m\u001b[0mparameters\u001b[0m\u001b[0;34m(\u001b[0m\u001b[0;34m)\u001b[0m\u001b[0;34m,\u001b[0m \u001b[0mlr\u001b[0m\u001b[0;34m=\u001b[0m\u001b[0;36m1e-5\u001b[0m \u001b[0;34m)\u001b[0m\u001b[0;34m\u001b[0m\u001b[0;34m\u001b[0m\u001b[0m\n\u001b[0;32m----> 3\u001b[0;31m \u001b[0ml\u001b[0m\u001b[0;34m,\u001b[0m \u001b[0mo\u001b[0m\u001b[0;34m,\u001b[0m\u001b[0mc\u001b[0m \u001b[0;34m=\u001b[0m \u001b[0mfit_model\u001b[0m\u001b[0;34m(\u001b[0m\u001b[0mmodel\u001b[0m\u001b[0;34m,\u001b[0m\u001b[0mtrain_loader\u001b[0m\u001b[0;34m,\u001b[0m\u001b[0mvalid_loader\u001b[0m\u001b[0;34m,\u001b[0m\u001b[0moptim\u001b[0m\u001b[0;34m,\u001b[0m\u001b[0mloss\u001b[0m \u001b[0;34m,\u001b[0m \u001b[0mepochs\u001b[0m \u001b[0;34m=\u001b[0m \u001b[0;36m200\u001b[0m\u001b[0;34m,\u001b[0m \u001b[0mclip\u001b[0m \u001b[0;34m=\u001b[0m\u001b[0;36m1\u001b[0m\u001b[0;34m,\u001b[0m \u001b[0msave_name\u001b[0m \u001b[0;34m=\u001b[0m \u001b[0;34m'model'\u001b[0m\u001b[0;34m)\u001b[0m\u001b[0;34m\u001b[0m\u001b[0;34m\u001b[0m\u001b[0m\n\u001b[0m",
            "\u001b[0;32m<ipython-input-138-38da4ba1374d>\u001b[0m in \u001b[0;36mfit_model\u001b[0;34m(model, train_loader, valid_loader, optim, criterion, epochs, clip, save_name)\u001b[0m\n\u001b[1;32m     35\u001b[0m \u001b[0;34m\u001b[0m\u001b[0m\n\u001b[1;32m     36\u001b[0m       \u001b[0mloss\u001b[0m \u001b[0;34m=\u001b[0m \u001b[0mcriterion\u001b[0m\u001b[0;34m(\u001b[0m\u001b[0moutput\u001b[0m\u001b[0;34m,\u001b[0m \u001b[0mlabels\u001b[0m\u001b[0;34m)\u001b[0m\u001b[0;34m\u001b[0m\u001b[0;34m\u001b[0m\u001b[0m\n\u001b[0;32m---> 37\u001b[0;31m       \u001b[0mloss\u001b[0m\u001b[0;34m.\u001b[0m\u001b[0mbackward\u001b[0m\u001b[0;34m(\u001b[0m\u001b[0;34m)\u001b[0m\u001b[0;34m\u001b[0m\u001b[0;34m\u001b[0m\u001b[0m\n\u001b[0m\u001b[1;32m     38\u001b[0m       \u001b[0mtorch\u001b[0m\u001b[0;34m.\u001b[0m\u001b[0mnn\u001b[0m\u001b[0;34m.\u001b[0m\u001b[0mutils\u001b[0m\u001b[0;34m.\u001b[0m\u001b[0mclip_grad_norm_\u001b[0m\u001b[0;34m(\u001b[0m\u001b[0mmodel\u001b[0m\u001b[0;34m.\u001b[0m\u001b[0mparameters\u001b[0m\u001b[0;34m(\u001b[0m\u001b[0;34m)\u001b[0m\u001b[0;34m,\u001b[0m \u001b[0mclip\u001b[0m\u001b[0;34m)\u001b[0m\u001b[0;34m\u001b[0m\u001b[0;34m\u001b[0m\u001b[0m\n\u001b[1;32m     39\u001b[0m       \u001b[0moptim\u001b[0m\u001b[0;34m.\u001b[0m\u001b[0mstep\u001b[0m\u001b[0;34m(\u001b[0m\u001b[0;34m)\u001b[0m\u001b[0;34m\u001b[0m\u001b[0;34m\u001b[0m\u001b[0m\n",
            "\u001b[0;32m/usr/local/lib/python3.7/dist-packages/torch/_tensor.py\u001b[0m in \u001b[0;36mbackward\u001b[0;34m(self, gradient, retain_graph, create_graph, inputs)\u001b[0m\n\u001b[1;32m    361\u001b[0m                 \u001b[0mcreate_graph\u001b[0m\u001b[0;34m=\u001b[0m\u001b[0mcreate_graph\u001b[0m\u001b[0;34m,\u001b[0m\u001b[0;34m\u001b[0m\u001b[0;34m\u001b[0m\u001b[0m\n\u001b[1;32m    362\u001b[0m                 inputs=inputs)\n\u001b[0;32m--> 363\u001b[0;31m         \u001b[0mtorch\u001b[0m\u001b[0;34m.\u001b[0m\u001b[0mautograd\u001b[0m\u001b[0;34m.\u001b[0m\u001b[0mbackward\u001b[0m\u001b[0;34m(\u001b[0m\u001b[0mself\u001b[0m\u001b[0;34m,\u001b[0m \u001b[0mgradient\u001b[0m\u001b[0;34m,\u001b[0m \u001b[0mretain_graph\u001b[0m\u001b[0;34m,\u001b[0m \u001b[0mcreate_graph\u001b[0m\u001b[0;34m,\u001b[0m \u001b[0minputs\u001b[0m\u001b[0;34m=\u001b[0m\u001b[0minputs\u001b[0m\u001b[0;34m)\u001b[0m\u001b[0;34m\u001b[0m\u001b[0;34m\u001b[0m\u001b[0m\n\u001b[0m\u001b[1;32m    364\u001b[0m \u001b[0;34m\u001b[0m\u001b[0m\n\u001b[1;32m    365\u001b[0m     \u001b[0;32mdef\u001b[0m \u001b[0mregister_hook\u001b[0m\u001b[0;34m(\u001b[0m\u001b[0mself\u001b[0m\u001b[0;34m,\u001b[0m \u001b[0mhook\u001b[0m\u001b[0;34m)\u001b[0m\u001b[0;34m:\u001b[0m\u001b[0;34m\u001b[0m\u001b[0;34m\u001b[0m\u001b[0m\n",
            "\u001b[0;32m/usr/local/lib/python3.7/dist-packages/torch/autograd/__init__.py\u001b[0m in \u001b[0;36mbackward\u001b[0;34m(tensors, grad_tensors, retain_graph, create_graph, grad_variables, inputs)\u001b[0m\n\u001b[1;32m    173\u001b[0m     Variable._execution_engine.run_backward(  # Calls into the C++ engine to run the backward pass\n\u001b[1;32m    174\u001b[0m         \u001b[0mtensors\u001b[0m\u001b[0;34m,\u001b[0m \u001b[0mgrad_tensors_\u001b[0m\u001b[0;34m,\u001b[0m \u001b[0mretain_graph\u001b[0m\u001b[0;34m,\u001b[0m \u001b[0mcreate_graph\u001b[0m\u001b[0;34m,\u001b[0m \u001b[0minputs\u001b[0m\u001b[0;34m,\u001b[0m\u001b[0;34m\u001b[0m\u001b[0;34m\u001b[0m\u001b[0m\n\u001b[0;32m--> 175\u001b[0;31m         allow_unreachable=True, accumulate_grad=True)  # Calls into the C++ engine to run the backward pass\n\u001b[0m\u001b[1;32m    176\u001b[0m \u001b[0;34m\u001b[0m\u001b[0m\n\u001b[1;32m    177\u001b[0m def grad(\n",
            "\u001b[0;31mKeyboardInterrupt\u001b[0m: "
          ]
        }
      ]
    },
    {
      "cell_type": "code",
      "source": [
        "model.load_state_dict(torch.load('/content/gdrive/MyDrive/Тестовое/best-val-model-model.pt'))"
      ],
      "metadata": {
        "id": "wWJt6oPa1lf4"
      },
      "execution_count": null,
      "outputs": []
    },
    {
      "cell_type": "markdown",
      "source": [
        "# Идеи\n",
        "* Выкинуть редкие классы \n",
        "* seq2seq\n",
        "* Делить не на количество встреченых а на факт\n",
        "* Взвешеное считать по каждому клиенту \n",
        "* добавить контекст\n"
      ],
      "metadata": {
        "id": "yV45ikk-cRky"
      }
    },
    {
      "cell_type": "code",
      "source": [
        ""
      ],
      "metadata": {
        "id": "CtmkNvcKcQk8"
      },
      "execution_count": null,
      "outputs": []
    },
    {
      "cell_type": "code",
      "source": [
        "sumb =  pd.read_csv('/content/gdrive/MyDrive/data/submission_baseline_2.csv')\n",
        "sumb.head()"
      ],
      "metadata": {
        "id": "3ATpQF5muFPC"
      },
      "execution_count": null,
      "outputs": []
    },
    {
      "cell_type": "code",
      "source": [
        "unpack =dict()\n",
        "for i in dictionary:\n",
        "  unpack[dictionary[i]] = i\n"
      ],
      "metadata": {
        "id": "x672RnQS5rav"
      },
      "execution_count": null,
      "outputs": []
    },
    {
      "cell_type": "code",
      "source": [
        "dictionary[9399]"
      ],
      "metadata": {
        "id": "xYVJagR5_0c6"
      },
      "execution_count": null,
      "outputs": []
    },
    {
      "cell_type": "code",
      "source": [
        "model.eval()\n",
        "preds = []\n",
        "i=0\n",
        "for test_batch in test_loader:\n",
        "\n",
        "      labels = torch.tensor([]).long()\n",
        "      model.to(device)\n",
        "      input = test_batch['data'].permute(1,0).to(device)\n",
        "      context = test_batch['context'].to(device)\n",
        "      output = model(input,context).permute(1,2,0)\n",
        "      i+=1\n",
        "      print( torch.argmax(output, axis =1))\n",
        "      predict_labels = [ preds.append([unpack[int(j)] for j in i]) for i in torch.argmax(output, axis =1)]\n",
        "      if predict_labels[0] is not None:\n",
        "        #print(np.array(predict_labels).shape)\n",
        "        preds.append(predict_labels)\n"
      ],
      "metadata": {
        "id": "0tRoYyrh2o0h"
      },
      "execution_count": null,
      "outputs": []
    },
    {
      "cell_type": "code",
      "source": [
        "k = np.array([len(set(i)) for i in preds])\n",
        "k[k==1]"
      ],
      "metadata": {
        "id": "yH7mCekN8TUw"
      },
      "execution_count": null,
      "outputs": []
    },
    {
      "cell_type": "code",
      "source": [
        "np.array(preds).shape"
      ],
      "metadata": {
        "id": "NGfUiewErWC5"
      },
      "execution_count": null,
      "outputs": []
    },
    {
      "cell_type": "code",
      "source": [
        "preds"
      ],
      "metadata": {
        "id": "jciS7C9Ishfh"
      },
      "execution_count": null,
      "outputs": []
    },
    {
      "cell_type": "code",
      "source": [
        "sumb['Predicted'] = preds\n",
        "sumb = sumb[['Id', 'Predicted']]\n",
        "\n",
        "sumb = sumb.Predicted.astype(str).str.replace(',', '')\n",
        "sumb.to_csv('pred.csv')\n",
        "sumb"
      ],
      "metadata": {
        "id": "RTgvl9mS8TbC"
      },
      "execution_count": null,
      "outputs": []
    },
    {
      "cell_type": "code",
      "source": [
        ""
      ],
      "metadata": {
        "id": "NdJATc22jW9u"
      },
      "execution_count": null,
      "outputs": []
    }
  ]
}